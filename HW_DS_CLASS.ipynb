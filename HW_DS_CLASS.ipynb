{
 "cells": [
  {
   "cell_type": "code",
   "execution_count": 1,
   "id": "a256d6e1",
   "metadata": {},
   "outputs": [],
   "source": [
    "2 # Data Science Tools and Techniques\n"
   ]
  },
  {
   "cell_type": "code",
   "execution_count": 3,
   "id": "2c644e70",
   "metadata": {},
   "outputs": [],
   "source": [
    "3 ## Introduction\n",
    "##Welcome to this Jupyterlite Notebook where we explore various data science tools and techniques.\n"
   ]
  },
  {
   "cell_type": "code",
   "execution_count": 5,
   "id": "df1adaec",
   "metadata": {},
   "outputs": [
    {
     "data": {
      "text/plain": [
       "4"
      ]
     },
     "execution_count": 5,
     "metadata": {},
     "output_type": "execute_result"
    }
   ],
   "source": [
    "4 ## Data Science Languages\n",
    "#- Python\n",
    "#- R\n",
    "#- SQL\n",
    "#- Julia\n"
   ]
  },
  {
   "cell_type": "code",
   "execution_count": 6,
   "id": "27450a6b",
   "metadata": {},
   "outputs": [],
   "source": [
    "#5# Data Science Libraries\n",
    "#- Pandas\n",
    "#- NumPy\n",
    "#- Matplotlib\n",
    "#- Seaborn\n",
    "#- Scikit-learn\n"
   ]
  },
  {
   "cell_type": "code",
   "execution_count": 7,
   "id": "56f8a6b1",
   "metadata": {},
   "outputs": [
    {
     "data": {
      "text/plain": [
       "6"
      ]
     },
     "execution_count": 7,
     "metadata": {},
     "output_type": "execute_result"
    }
   ],
   "source": [
    "6 ## Data Science Tools\n",
    "\n",
    "##| Category          | Tools                         |\n",
    "#|-------------------|-------------------------------|\n",
    "#| Data Collection   | Selenium, BeautifulSoup       |\n",
    "#| Data Cleaning     | Pandas, OpenRefine            |\n",
    "#| Data Analysis     | Jupyter Notebook, RStudio     |\n",
    "#| Data Visualization| Matplotlib, Plotly, ggplot    |\n",
    "#| Machine Learning  | Scikit-learn, TensorFlow      |\n"
   ]
  },
  {
   "cell_type": "code",
   "execution_count": 8,
   "id": "e002bcbc",
   "metadata": {},
   "outputs": [
    {
     "data": {
      "text/plain": [
       "7"
      ]
     },
     "execution_count": 8,
     "metadata": {},
     "output_type": "execute_result"
    }
   ],
   "source": [
    "7 ## Arithmetic Expression Examples\n",
    "#Let's explore some basic arithmetic operations using Python.\n"
   ]
  },
  {
   "cell_type": "code",
   "execution_count": 9,
   "id": "f8bd0e79",
   "metadata": {},
   "outputs": [
    {
     "name": "stdout",
     "output_type": "stream",
     "text": [
      "Multiplication Result: 50\n",
      "Addition Result: 35\n"
     ]
    }
   ],
   "source": [
    "8 # Multiplication\n",
    "num1 = 5\n",
    "num2 = 10\n",
    "result_multiply = num1 * num2\n",
    "print(\"Multiplication Result:\", result_multiply)\n",
    "\n",
    "# Addition\n",
    "num3 = 15\n",
    "num4 = 20\n",
    "result_addition = num3 + num4\n",
    "print(\"Addition Result:\", result_addition)\n"
   ]
  },
  {
   "cell_type": "code",
   "execution_count": 10,
   "id": "3054c26b",
   "metadata": {},
   "outputs": [
    {
     "name": "stdout",
     "output_type": "stream",
     "text": [
      "120 minutes = 2.0 hours\n"
     ]
    }
   ],
   "source": [
    "# Convert minutes to hours\n",
    "minutes = 120\n",
    "hours = minutes / 60\n",
    "print(\"120 minutes =\", hours, \"hours\")\n"
   ]
  },
  {
   "cell_type": "code",
   "execution_count": 11,
   "id": "b5181daf",
   "metadata": {},
   "outputs": [],
   "source": [
    "## Objectives\n",
    "#- Explore various data science languages, libraries, and tools.\n",
    "#- Understand basic arithmetic operations in Python.\n"
   ]
  },
  {
   "cell_type": "code",
   "execution_count": 12,
   "id": "49776b0a",
   "metadata": {},
   "outputs": [],
   "source": [
    "## Author\n",
    "#Yermek Batyrkhanov\n"
   ]
  },
  {
   "cell_type": "code",
   "execution_count": null,
   "id": "d145d518",
   "metadata": {},
   "outputs": [],
   "source": []
  }
 ],
 "metadata": {
  "kernelspec": {
   "display_name": "Python 3 (ipykernel)",
   "language": "python",
   "name": "python3"
  },
  "language_info": {
   "codemirror_mode": {
    "name": "ipython",
    "version": 3
   },
   "file_extension": ".py",
   "mimetype": "text/x-python",
   "name": "python",
   "nbconvert_exporter": "python",
   "pygments_lexer": "ipython3",
   "version": "3.11.7"
  }
 },
 "nbformat": 4,
 "nbformat_minor": 5
}
